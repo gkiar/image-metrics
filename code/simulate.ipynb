{
 "cells": [
  {
   "cell_type": "code",
   "execution_count": 1,
   "metadata": {},
   "outputs": [],
   "source": [
    "import os.path as op, os\n",
    "import nibabel as nib\n",
    "import numpy as np\n",
    "import pandas as pd\n",
    "\n",
    "from copy import deepcopy\n",
    "\n",
    "from skimage.measure import compare_ssim as ssim\n",
    "from skimage.measure import compare_mse as mse\n",
    "from skimage.measure import compare_nrmse as nrmse\n",
    "from skimage.measure import compare_psnr as psnr"
   ]
  },
  {
   "cell_type": "code",
   "execution_count": 2,
   "metadata": {},
   "outputs": [],
   "source": [
    "def oneVoxel(data, loc, scale):\n",
    "    loc = tuple(loc)\n",
    "    assert(len(loc) == len(data.shape))\n",
    "    datnew = np.copy(data)\n",
    "    datnew[loc] = datnew[loc] * (scale)\n",
    "    return datnew"
   ]
  },
  {
   "cell_type": "code",
   "execution_count": 13,
   "metadata": {},
   "outputs": [],
   "source": [
    "diff_df = pd.DataFrame(columns = [\"Images\", \"SameSubject\", \"1-voxel\", \"Rician\", \"Gaussian\", \"MSE\", \"NRMSE\", \"PSNR\", \"SSIM\"])\n",
    "image_df = pd.DataFrame(columns = [\"Dataset\", \"Subject\", \"Session\", \"Modality\", \"Noise\", \"Affine\", \"Image\"])"
   ]
  },
  {
   "cell_type": "code",
   "execution_count": 14,
   "metadata": {},
   "outputs": [],
   "source": [
    "f_image1 = '/data/hcp1200_minimal/sub-100206/ses-1/anat/sub-100206_ses-1_T1w.nii.gz'\n",
    "f_image2 = '/data/hcp1200_minimal/sub-108121/ses-1/anat/sub-108121_ses-1_T1w.nii.gz'\n",
    "\n",
    "im1 = nib.load(f_image1)\n",
    "im2 = nib.load(f_image2)\n",
    "\n",
    "dat1 = im1.get_data()\n",
    "dat2 = im2.get_data()\n",
    "\n",
    "image_df.loc[len(image_df)] = [\"HCP\", \"100206\", \"1\", \"T1w\", None, im1.affine, dat1]\n",
    "image_df.loc[len(image_df)] = [\"HCP\", \"108121\", \"1\", \"T1w\", None, im2.affine, dat2]"
   ]
  },
  {
   "cell_type": "code",
   "execution_count": 15,
   "metadata": {},
   "outputs": [],
   "source": [
    "noisyim = deepcopy(image_df.loc[0][:])\n",
    "loc = (150, 160, 160)\n",
    "params = [noisyim[-1], loc, 1.15]\n",
    "noisyim[4] = \"fn: {0}; params: {1}\".format('oneVoxel', str(params[1:]))\n",
    "noisyim[6] = oneVoxel(*params)\n",
    "image_df.loc[len(image_df)] = noisyim\n",
    "\n",
    "noisyim = deepcopy(image_df.loc[1][:])\n",
    "params = [noisyim[-1], loc, 1.15]\n",
    "noisyim[4] = \"fn: {0}; params: {1}\".format('oneVoxel', str(params[1:]))\n",
    "noisyim[6] = oneVoxel(*params)\n",
    "image_df.loc[len(image_df)] = noisyim"
   ]
  },
  {
   "cell_type": "code",
   "execution_count": 16,
   "metadata": {},
   "outputs": [
    {
     "data": {
      "text/html": [
       "<div>\n",
       "<style scoped>\n",
       "    .dataframe tbody tr th:only-of-type {\n",
       "        vertical-align: middle;\n",
       "    }\n",
       "\n",
       "    .dataframe tbody tr th {\n",
       "        vertical-align: top;\n",
       "    }\n",
       "\n",
       "    .dataframe thead th {\n",
       "        text-align: right;\n",
       "    }\n",
       "</style>\n",
       "<table border=\"1\" class=\"dataframe\">\n",
       "  <thead>\n",
       "    <tr style=\"text-align: right;\">\n",
       "      <th></th>\n",
       "      <th>Dataset</th>\n",
       "      <th>Subject</th>\n",
       "      <th>Session</th>\n",
       "      <th>Modality</th>\n",
       "      <th>Noise</th>\n",
       "    </tr>\n",
       "  </thead>\n",
       "  <tbody>\n",
       "    <tr>\n",
       "      <th>0</th>\n",
       "      <td>HCP</td>\n",
       "      <td>100206</td>\n",
       "      <td>1</td>\n",
       "      <td>T1w</td>\n",
       "      <td>None</td>\n",
       "    </tr>\n",
       "    <tr>\n",
       "      <th>1</th>\n",
       "      <td>HCP</td>\n",
       "      <td>108121</td>\n",
       "      <td>1</td>\n",
       "      <td>T1w</td>\n",
       "      <td>None</td>\n",
       "    </tr>\n",
       "    <tr>\n",
       "      <th>2</th>\n",
       "      <td>HCP</td>\n",
       "      <td>100206</td>\n",
       "      <td>1</td>\n",
       "      <td>T1w</td>\n",
       "      <td>fn: oneVoxel; params: [(150, 160, 160), 1.15]</td>\n",
       "    </tr>\n",
       "    <tr>\n",
       "      <th>3</th>\n",
       "      <td>HCP</td>\n",
       "      <td>108121</td>\n",
       "      <td>1</td>\n",
       "      <td>T1w</td>\n",
       "      <td>fn: oneVoxel; params: [(150, 160, 160), 1.15]</td>\n",
       "    </tr>\n",
       "  </tbody>\n",
       "</table>\n",
       "</div>"
      ],
      "text/plain": [
       "  Dataset Subject Session Modality  \\\n",
       "0     HCP  100206       1      T1w   \n",
       "1     HCP  108121       1      T1w   \n",
       "2     HCP  100206       1      T1w   \n",
       "3     HCP  108121       1      T1w   \n",
       "\n",
       "                                           Noise  \n",
       "0                                           None  \n",
       "1                                           None  \n",
       "2  fn: oneVoxel; params: [(150, 160, 160), 1.15]  \n",
       "3  fn: oneVoxel; params: [(150, 160, 160), 1.15]  "
      ]
     },
     "execution_count": 16,
     "metadata": {},
     "output_type": "execute_result"
    }
   ],
   "source": [
    "image_df[image_df.columns[:-2]]"
   ]
  },
  {
   "cell_type": "code",
   "execution_count": 18,
   "metadata": {},
   "outputs": [
    {
     "ename": "ValueError",
     "evalue": "cannot set a row with mismatched columns",
     "output_type": "error",
     "traceback": [
      "\u001b[0;31m---------------------------------------------------------------------------\u001b[0m",
      "\u001b[0;31mValueError\u001b[0m                                Traceback (most recent call last)",
      "\u001b[0;32m<ipython-input-18-d2bf9a6aea65>\u001b[0m in \u001b[0;36m<module>\u001b[0;34m\u001b[0m\n\u001b[1;32m     11\u001b[0m                                      \u001b[0mnrmse\u001b[0m\u001b[0;34m(\u001b[0m\u001b[0mim1\u001b[0m\u001b[0;34m[\u001b[0m\u001b[0;34m-\u001b[0m\u001b[0;36m1\u001b[0m\u001b[0;34m]\u001b[0m\u001b[0;34m,\u001b[0m \u001b[0mim2\u001b[0m\u001b[0;34m[\u001b[0m\u001b[0;34m-\u001b[0m\u001b[0;36m1\u001b[0m\u001b[0;34m]\u001b[0m\u001b[0;34m)\u001b[0m\u001b[0;34m,\u001b[0m\u001b[0;34m\u001b[0m\u001b[0m\n\u001b[1;32m     12\u001b[0m                                      \u001b[0mpsnr\u001b[0m\u001b[0;34m(\u001b[0m\u001b[0mim1\u001b[0m\u001b[0;34m[\u001b[0m\u001b[0;34m-\u001b[0m\u001b[0;36m1\u001b[0m\u001b[0;34m]\u001b[0m\u001b[0;34m,\u001b[0m \u001b[0mim2\u001b[0m\u001b[0;34m[\u001b[0m\u001b[0;34m-\u001b[0m\u001b[0;36m1\u001b[0m\u001b[0;34m]\u001b[0m\u001b[0;34m)\u001b[0m\u001b[0;34m,\u001b[0m\u001b[0;34m\u001b[0m\u001b[0m\n\u001b[0;32m---> 13\u001b[0;31m                                      ssim(im1[-1], im2[-1])]\n\u001b[0m",
      "\u001b[0;32m~/code/gkiar/image-metrics/env/images/lib/python3.6/site-packages/pandas/core/indexing.py\u001b[0m in \u001b[0;36m__setitem__\u001b[0;34m(self, key, value)\u001b[0m\n\u001b[1;32m    187\u001b[0m             \u001b[0mkey\u001b[0m \u001b[0;34m=\u001b[0m \u001b[0mcom\u001b[0m\u001b[0;34m.\u001b[0m\u001b[0m_apply_if_callable\u001b[0m\u001b[0;34m(\u001b[0m\u001b[0mkey\u001b[0m\u001b[0;34m,\u001b[0m \u001b[0mself\u001b[0m\u001b[0;34m.\u001b[0m\u001b[0mobj\u001b[0m\u001b[0;34m)\u001b[0m\u001b[0;34m\u001b[0m\u001b[0m\n\u001b[1;32m    188\u001b[0m         \u001b[0mindexer\u001b[0m \u001b[0;34m=\u001b[0m \u001b[0mself\u001b[0m\u001b[0;34m.\u001b[0m\u001b[0m_get_setitem_indexer\u001b[0m\u001b[0;34m(\u001b[0m\u001b[0mkey\u001b[0m\u001b[0;34m)\u001b[0m\u001b[0;34m\u001b[0m\u001b[0m\n\u001b[0;32m--> 189\u001b[0;31m         \u001b[0mself\u001b[0m\u001b[0;34m.\u001b[0m\u001b[0m_setitem_with_indexer\u001b[0m\u001b[0;34m(\u001b[0m\u001b[0mindexer\u001b[0m\u001b[0;34m,\u001b[0m \u001b[0mvalue\u001b[0m\u001b[0;34m)\u001b[0m\u001b[0;34m\u001b[0m\u001b[0m\n\u001b[0m\u001b[1;32m    190\u001b[0m \u001b[0;34m\u001b[0m\u001b[0m\n\u001b[1;32m    191\u001b[0m     \u001b[0;32mdef\u001b[0m \u001b[0m_validate_key\u001b[0m\u001b[0;34m(\u001b[0m\u001b[0mself\u001b[0m\u001b[0;34m,\u001b[0m \u001b[0mkey\u001b[0m\u001b[0;34m,\u001b[0m \u001b[0maxis\u001b[0m\u001b[0;34m)\u001b[0m\u001b[0;34m:\u001b[0m\u001b[0;34m\u001b[0m\u001b[0m\n",
      "\u001b[0;32m~/code/gkiar/image-metrics/env/images/lib/python3.6/site-packages/pandas/core/indexing.py\u001b[0m in \u001b[0;36m_setitem_with_indexer\u001b[0;34m(self, indexer, value)\u001b[0m\n\u001b[1;32m    443\u001b[0m                         \u001b[0;32mif\u001b[0m \u001b[0mis_list_like_indexer\u001b[0m\u001b[0;34m(\u001b[0m\u001b[0mvalue\u001b[0m\u001b[0;34m)\u001b[0m\u001b[0;34m:\u001b[0m\u001b[0;34m\u001b[0m\u001b[0m\n\u001b[1;32m    444\u001b[0m                             \u001b[0;32mif\u001b[0m \u001b[0mlen\u001b[0m\u001b[0;34m(\u001b[0m\u001b[0mvalue\u001b[0m\u001b[0;34m)\u001b[0m \u001b[0;34m!=\u001b[0m \u001b[0mlen\u001b[0m\u001b[0;34m(\u001b[0m\u001b[0mself\u001b[0m\u001b[0;34m.\u001b[0m\u001b[0mobj\u001b[0m\u001b[0;34m.\u001b[0m\u001b[0mcolumns\u001b[0m\u001b[0;34m)\u001b[0m\u001b[0;34m:\u001b[0m\u001b[0;34m\u001b[0m\u001b[0m\n\u001b[0;32m--> 445\u001b[0;31m                                 raise ValueError(\"cannot set a row with \"\n\u001b[0m\u001b[1;32m    446\u001b[0m                                                  \"mismatched columns\")\n\u001b[1;32m    447\u001b[0m \u001b[0;34m\u001b[0m\u001b[0m\n",
      "\u001b[0;31mValueError\u001b[0m: cannot set a row with mismatched columns"
     ]
    }
   ],
   "source": [
    "for idx, im1 in image_df.iterrows():\n",
    "    for jdx, im2 in image_df.iterrows():\n",
    "        if jdx <= idx:\n",
    "            continue\n",
    "        diff_df.loc[len(diff_df)] = [(1, 2),  # Image indices\n",
    "                                     im1[1] == im2[1],  # Same subject?\n",
    "                                     (\"oneVoxel\" in [im1[4] or im2[4]]),  # One voxel noise?\n",
    "                                     False,  # Rician noise?\n",
    "                                     False,  # Gaussian noise?\n",
    "                                     mse(im1[-1], im2[-1]),\n",
    "                                     nrmse(im1[-1], im2[-1]),\n",
    "                                     psnr(im1[-1], im2[-1]),\n",
    "                                     ssim(im1[-1], im2[-1])]"
   ]
  },
  {
   "cell_type": "code",
   "execution_count": null,
   "metadata": {},
   "outputs": [],
   "source": [
    "diff_df"
   ]
  },
  {
   "cell_type": "code",
   "execution_count": 12,
   "metadata": {},
   "outputs": [
    {
     "data": {
      "text/plain": [
       "(0.9999999999450607, 0.9999999999004779)"
      ]
     },
     "execution_count": 12,
     "metadata": {},
     "output_type": "execute_result"
    }
   ],
   "source": [
    "diff_df.loc[1][-1], diff_df.loc[4][-1]"
   ]
  },
  {
   "cell_type": "code",
   "execution_count": null,
   "metadata": {},
   "outputs": [],
   "source": []
  },
  {
   "cell_type": "code",
   "execution_count": null,
   "metadata": {},
   "outputs": [],
   "source": []
  }
 ],
 "metadata": {
  "kernelspec": {
   "display_name": "Python 3",
   "language": "python",
   "name": "python3"
  },
  "language_info": {
   "codemirror_mode": {
    "name": "ipython",
    "version": 3
   },
   "file_extension": ".py",
   "mimetype": "text/x-python",
   "name": "python",
   "nbconvert_exporter": "python",
   "pygments_lexer": "ipython3",
   "version": "3.6.5"
  }
 },
 "nbformat": 4,
 "nbformat_minor": 2
}
